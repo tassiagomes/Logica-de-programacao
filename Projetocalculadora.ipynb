{
  "nbformat": 4,
  "nbformat_minor": 0,
  "metadata": {
    "colab": {
      "provenance": [],
      "authorship_tag": "ABX9TyNj9Cep4yyArkGAT3oKoLnw",
      "include_colab_link": true
    },
    "kernelspec": {
      "name": "python3",
      "display_name": "Python 3"
    },
    "language_info": {
      "name": "python"
    }
  },
  "cells": [
    {
      "cell_type": "markdown",
      "metadata": {
        "id": "view-in-github",
        "colab_type": "text"
      },
      "source": [
        "<a href=\"https://colab.research.google.com/github/tassiagomes/Logica-de-programacao/blob/main/Projetocalculadora.ipynb\" target=\"_parent\"><img src=\"https://colab.research.google.com/assets/colab-badge.svg\" alt=\"Open In Colab\"/></a>"
      ]
    },
    {
      "cell_type": "code",
      "execution_count": null,
      "metadata": {
        "colab": {
          "base_uri": "https://localhost:8080/"
        },
        "id": "dLVjlEuqUZ8W",
        "outputId": "6bd59bf7-f306-40d6-e11e-bdf9c3cbb0c8"
      },
      "outputs": [
        {
          "output_type": "stream",
          "name": "stdout",
          "text": [
            "Insira o primeiro número:10\n",
            "Insira o segundo número:2\n",
            "Insira a operação que deseja realizar (+, -, *, /):+\n",
            "10 + 2 = \n",
            "12\n",
            "\n",
            "Você gostaria de usar a calculadora novamente?\n",
            "Por favor digite S para SIM e N para NÃO:\n",
            "s\n",
            "Insira o primeiro número:15\n",
            "Insira o segundo número:5\n",
            "Insira a operação que deseja realizar (+, -, *, /):+\n",
            "15 + 5 = \n",
            "20\n"
          ]
        }
      ],
      "source": [
        "# Pedir as informações do cálculo para o usuário:\n",
        "\n",
        "def calculate():\n",
        "  numero_1 = int(input(\"Insira o primeiro número:\"))\n",
        "  numero_2 = int(input(\"Insira o segundo número:\"))\n",
        "\n",
        "  operação = input(\"Insira a operação que deseja realizar (+, -, *, /):\")\n",
        "\n",
        "# Definir as operações que serão executadas:\n",
        "\n",
        "  if operação == '+':\n",
        "    print('{} + {} = '.format(numero_1, numero_2))\n",
        "    print(numero_1 + numero_2)\n",
        "\n",
        "  elif operação == '-':\n",
        "    print('{} - {} = '.format(numero_1, numero_2))\n",
        "    print(numero_1 - numero_2)\n",
        "\n",
        "  elif operação == '*':\n",
        "    print('{} * {} = '.format(numero_1, numero_2))\n",
        "    print(numero_1 * numero_2)\n",
        "\n",
        "  elif operação == '/':\n",
        "    print('{} / {} = '.format(numero_1, numero_2))\n",
        "    print(numero_1 / numero_2)\n",
        "\n",
        "  else:\n",
        "    print('Você não digitou uma operação válida.')\n",
        "\n",
        "# Chamar função calculate() fora da função\n",
        "calculate()\n",
        "\n",
        "# Definir função again() para perguntar ao usuário se quer usar a calculadora novamente\n",
        "def again():\n",
        "  calc_again = input('''\n",
        "Você gostaria de usar a calculadora novamente?\n",
        "Por favor digite S para SIM e N para NÃO:\n",
        "''')\n",
        "\n",
        "# Aceitar S ou s:\n",
        "\n",
        "  if calc_again.upper() == 'S':\n",
        "    calculate()\n",
        "\n",
        "# Aceitar N ou n:\n",
        "\n",
        "  elif calc_again.upper() == 'N':\n",
        "    print('Obrigado por usar a calculadora.')\n",
        "  else:\n",
        "    again()\n",
        "\n",
        "again()\n",
        "\n",
        "\n"
      ]
    }
  ]
}